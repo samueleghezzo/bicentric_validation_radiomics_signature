{
 "cells": [
  {
   "cell_type": "code",
   "execution_count": null,
   "id": "6965ecd9-2815-4e33-acf5-2428cf69d47b",
   "metadata": {},
   "outputs": [],
   "source": [
    "import pandas as pd\n",
    "import numpy as np\n",
    "import sklearn\n",
    "import os\n",
    "import glob\n",
    "import joblib\n",
    "from sklearn.metrics import accuracy_score, roc_auc_score, recall_score, precision_score, confusion_matrix"
   ]
  },
  {
   "cell_type": "markdown",
   "id": "5fcb3fc5-e584-4e37-a3b1-1a5ad2a3ce72",
   "metadata": {},
   "source": [
    "Import datasets"
   ]
  },
  {
   "cell_type": "code",
   "execution_count": null,
   "id": "a3998b6c-49c0-450a-a227-504a1260189f",
   "metadata": {},
   "outputs": [],
   "source": [
    "df = pd.read_csv('directory/to/full/sample/harmonized/df.csv') #user specific\n",
    "print(df.shape)\n",
    "df_HSR = pd.read_csv('directory/to/HSR/sample/harmonized/df.csv') #user specific\n",
    "print(df_HSR.shape)\n",
    "df_STN = pd.read_csv('directory/to/STN/sample/df.csv') #user specific\n",
    "print(df_STN.shape)"
   ]
  },
  {
   "cell_type": "markdown",
   "id": "645c402e-e494-4b72-a9ca-71a23c644d10",
   "metadata": {},
   "source": [
    "Import model"
   ]
  },
  {
   "cell_type": "code",
   "execution_count": null,
   "id": "04ed63b1-9dd4-490a-b11b-ebe76e04e4a9",
   "metadata": {},
   "outputs": [],
   "source": [
    "trained_model = 'your/directory/to/svm_model_trained_on_hsr.joblib' #user specific\n",
    "model = joblib.load(trained_model)"
   ]
  },
  {
   "cell_type": "markdown",
   "id": "4261ef6a-0718-4737-b759-259bfba3f70e",
   "metadata": {},
   "source": [
    "Analysis on the full dataset"
   ]
  },
  {
   "cell_type": "code",
   "execution_count": null,
   "id": "73ea3e99-78a3-4191-93af-ef91be9a2a57",
   "metadata": {},
   "outputs": [],
   "source": [
    "X_test = df[['\"original_glszm_ZoneEntropy\"','\"original_shape_LeastAxisLength\"']].copy()\n",
    "X_test = X_test.to_numpy()\n",
    "y_test = df[['x']].copy()\n",
    "y_test = np.ravel(y_test)\n",
    "print(f'The shape of my predicotrs is {X_test.shape}')\n",
    "print(f'The shape of my label is {y_test.shape}')"
   ]
  },
  {
   "cell_type": "code",
   "execution_count": null,
   "id": "b2286a2f-7d3d-44d7-8119-7f84a10be871",
   "metadata": {},
   "outputs": [],
   "source": [
    "y_pred = model.predict(X_test)\n",
    "\n",
    "acc = accuracy_score(y_test, y_pred)\n",
    "print(f'Accuracy: {acc}')\n",
    "auc = roc_auc_score(y_test, y_pred)\n",
    "print(f'AUC: {auc}')\n",
    "# Sensitivity (SN) or Recall\n",
    "sn = recall_score(y_test, y_pred)\n",
    "print(f'Sensitivity: {sn}')\n",
    "\n",
    "# Specificity (SP)\n",
    "tn, fp, fn, tp = confusion_matrix(y_test, y_pred).ravel()\n",
    "sp = tn / (tn + fp)\n",
    "print(f'Specificity: {sp}')\n",
    "\n",
    "# Positive Predictive Value (PPV)\n",
    "ppv = precision_score(y_test, y_pred)\n",
    "print(f'PPV: {ppv}')\n",
    "\n",
    "# Negative Predictive Value (NPV)\n",
    "npv = tn / (tn + fn)\n",
    "print(f'NPV: {npv}')"
   ]
  },
  {
   "cell_type": "markdown",
   "id": "0dbc7adb-a266-430a-940d-57925f118564",
   "metadata": {},
   "source": [
    "Analysis on HSR only"
   ]
  },
  {
   "cell_type": "code",
   "execution_count": null,
   "id": "a673923b-6ed7-48f3-b675-3bb8f3404220",
   "metadata": {},
   "outputs": [],
   "source": [
    "X_test_HSR = df_HSR[['\"original_glszm_ZoneEntropy\"','\"original_shape_LeastAxisLength\"']].copy()\n",
    "X_test_HSR = X_test_HSR.to_numpy()\n",
    "y_test_HSR = df_HSR[['x']].copy()\n",
    "y_test_HSR = np.ravel(y_test_HSR)\n",
    "print(f'The shape of my predicotrs is {X_test_HSR.shape}')\n",
    "print(f'The shape of my label is {y_test_HSR.shape}')"
   ]
  },
  {
   "cell_type": "code",
   "execution_count": null,
   "id": "c0132491-4ee3-4618-a3ca-6651450507b2",
   "metadata": {},
   "outputs": [],
   "source": [
    "y_pred_HSR = model.predict(X_test_HSR)\n",
    "\n",
    "acc = accuracy_score(y_test_HSR, y_pred_HSR)\n",
    "print(f'Accuracy: {acc}')\n",
    "auc = roc_auc_score(y_test_HSR, y_pred_HSR)\n",
    "print(f'AUC: {auc}')\n",
    "# Sensitivity (SN) or Recall\n",
    "sn = recall_score(y_test_HSR, y_pred_HSR)\n",
    "print(f'Sensitivity: {sn}')\n",
    "\n",
    "# Specificity (SP)\n",
    "tn, fp, fn, tp = confusion_matrix(y_test_HSR, y_pred_HSR).ravel()\n",
    "sp = tn / (tn + fp)\n",
    "print(f'Specificity: {sp}')\n",
    "\n",
    "# Positive Predictive Value (PPV)\n",
    "ppv = precision_score(y_test_HSR, y_pred_HSR)\n",
    "print(f'PPV: {ppv}')\n",
    "\n",
    "# Negative Predictive Value (NPV)\n",
    "npv = tn / (tn + fn)\n",
    "print(f'NPV: {npv}')"
   ]
  },
  {
   "cell_type": "markdown",
   "id": "4d5d03c7-6308-4093-acdc-2f896201a64e",
   "metadata": {},
   "source": [
    "Analysis on STN only"
   ]
  },
  {
   "cell_type": "code",
   "execution_count": null,
   "id": "5f4afcac-78e9-40c1-9f6b-fcf91bf9bae8",
   "metadata": {},
   "outputs": [],
   "source": [
    "X_test_STN = df_STN[['\"original_glszm_ZoneEntropy\"','\"original_shape_LeastAxisLength\"']].copy()\n",
    "X_test_STN = X_test_STN.to_numpy()\n",
    "y_test_STN = df_STN[['x']].copy()\n",
    "y_test_STN = np.ravel(y_test_STN)\n",
    "print(f'The shape of my predicotrs is {X_test_STN.shape}')\n",
    "print(f'The shape of my label is {y_test_STN.shape}')"
   ]
  },
  {
   "cell_type": "code",
   "execution_count": null,
   "id": "15ceae2b-e1af-4e08-92e2-991f9f9672e5",
   "metadata": {},
   "outputs": [],
   "source": [
    "y_pred_STN = model.predict(X_test_STN)\n",
    "\n",
    "acc = accuracy_score(y_test_STN, y_pred_STN)\n",
    "print(f'Accuracy: {acc}')\n",
    "auc = roc_auc_score(y_test_STN, y_pred_STN)\n",
    "print(f'AUC: {auc}')\n",
    "# Sensitivity (SN) or Recall\n",
    "sn = recall_score(y_test_STN, y_pred_STN)\n",
    "print(f'Sensitivity: {sn}')\n",
    "\n",
    "# Specificity (SP)\n",
    "tn, fp, fn, tp = confusion_matrix(y_test_STN, y_pred_STN).ravel()\n",
    "sp = tn / (tn + fp)\n",
    "print(f'Specificity: {sp}')\n",
    "\n",
    "# Positive Predictive Value (PPV)\n",
    "ppv = precision_score(y_test_STN, y_pred_STN)\n",
    "print(f'PPV: {ppv}')\n",
    "\n",
    "# Negative Predictive Value (NPV)\n",
    "npv = tn / (tn + fn)\n",
    "print(f'NPV: {npv}')"
   ]
  }
 ],
 "metadata": {
  "kernelspec": {
   "display_name": "Python 3 (ipykernel)",
   "language": "python",
   "name": "python3"
  },
  "language_info": {
   "codemirror_mode": {
    "name": "ipython",
    "version": 3
   },
   "file_extension": ".py",
   "mimetype": "text/x-python",
   "name": "python",
   "nbconvert_exporter": "python",
   "pygments_lexer": "ipython3",
   "version": "3.9.19"
  }
 },
 "nbformat": 4,
 "nbformat_minor": 5
}
